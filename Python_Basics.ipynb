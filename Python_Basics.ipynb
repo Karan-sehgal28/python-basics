{
  "nbformat": 4,
  "nbformat_minor": 0,
  "metadata": {
    "colab": {
      "provenance": []
    },
    "kernelspec": {
      "name": "python3",
      "display_name": "Python 3"
    },
    "language_info": {
      "name": "python"
    }
  },
  "cells": [
    {
      "cell_type": "markdown",
      "source": [
        "#Python Basics"
      ],
      "metadata": {
        "id": "pgKOBPDWwHv4"
      }
    },
    {
      "cell_type": "markdown",
      "source": [
        "### Theory Questions"
      ],
      "metadata": {
        "id": "DpqiFNT6Mwf7"
      }
    },
    {
      "cell_type": "markdown",
      "source": [
        "1. What is Python, and why is it popular?\n",
        "  - Python is a computer programming language that is easy to understand and write. It is popular among  developers and programmers because:\n",
        "    - Easy to use\n",
        "    - Large & active community of Developers\n",
        "    - Has a huge library\n",
        "\n",
        "\n"
      ],
      "metadata": {
        "id": "z30_rwlx0pmL"
      }
    },
    {
      "cell_type": "markdown",
      "source": [
        "2. What is an interpreter in Python?\n",
        "  - An interpreter translates the command that a programmer write out into code that the computer can understand. A python interpreter is a computer program that converts each high-level progra0m statement into machine code."
      ],
      "metadata": {
        "id": "p8x4iJQO3CB2"
      }
    },
    {
      "cell_type": "markdown",
      "source": [
        "3. What are pre-defined keywords in Python?\n",
        "  - A pre-defined keywords are reserved words in Python that have special meanings and cannot be used as identifiers (variable names, function names, etc.).\n",
        "  - Examples of keywords include if, else, while, for, def, class, import, try, except, return, True, False, None, etc.\n"
      ],
      "metadata": {
        "id": "XB16Ps9W5ECk"
      }
    },
    {
      "cell_type": "markdown",
      "source": [
        "4. Can keywords be used as variable names?\n",
        "  - No, keywords cannot be used as variable names in Python. Keywords are reserved words that have special meanings and purposes in the Python programming language. Using them as variable names would cause syntax errors because Python would misinterpret the intended functionality of the keyword."
      ],
      "metadata": {
        "id": "vQsF35fX6xyZ"
      }
    },
    {
      "cell_type": "markdown",
      "source": [
        "5. What is mutability in Python?\n",
        "  - In Python, mutability refers to the ability of an object to change after it has been created. In python, list & dictionaries can be change after creation,so these are considered to be mutable objects.\n"
      ],
      "metadata": {
        "id": "m_oL74VO7MQC"
      }
    },
    {
      "cell_type": "markdown",
      "source": [
        "6. Why are lists mutable, but tuples are immutable?\n",
        "  - Lists is considered as mutable object as it can be changed after creation however Tuples cannot be changed or modified after creation therefore it is known as Immutable."
      ],
      "metadata": {
        "id": "CXFh0qHQ8G4-"
      }
    },
    {
      "cell_type": "markdown",
      "source": [
        "7. What is the difference between “==” and “is” operators in Python?\n",
        "  - \"==\" is known as the equality operator.it compares the values of two objects are equal however \"is\" is known as the identity operator, it  if the objects are identical.\n"
      ],
      "metadata": {
        "id": "rJsWAQu89ETo"
      }
    },
    {
      "cell_type": "markdown",
      "source": [
        "8.  What are logical operators in Python?\n",
        "  - Logical operators in Python are used to evaluate multiple conditions and determine the truth value of an expression. There are 3 types of lopgical operators in python as 'and','or' & 'not'."
      ],
      "metadata": {
        "id": "XpUH2M9q-Ici"
      }
    },
    {
      "cell_type": "markdown",
      "source": [
        "9. What is type casting in Python?\n",
        "  - Type casting is also referred to as type conversion. It is the process of changing one data type to another in Python. Python provides built-in functions for type casting, such as int(), float(), str(), list(), tuple(), dict(), etc."
      ],
      "metadata": {
        "id": "0fzNM6alATRU"
      }
    },
    {
      "cell_type": "markdown",
      "source": [
        "10. What is the difference between implicit and explicit type casting?\n",
        "  - The main difference between implicit and explicit type casting is that implicit type casting is automatic, while explicit type casting is done manually."
      ],
      "metadata": {
        "id": "t0ibWFBbAoJR"
      }
    },
    {
      "cell_type": "markdown",
      "source": [
        "11. What is the purpose of conditional statements in Python?\n",
        "  - Conditionals in Python are used to execute code based on the evaluation of one or more conditions.  Sonditional statements such as if, elif, and else are there in pyton to control the flow of execution."
      ],
      "metadata": {
        "id": "qj9hO0iIFMdo"
      }
    },
    {
      "cell_type": "markdown",
      "source": [
        "12. How does the elif statement work?\n",
        "   - In python, 'elif' is used in conditional statements to check for multiple conditions. If the first condition is false, it moves on to the next “elif” statement to check if that condition is true. If not true."
      ],
      "metadata": {
        "id": "vz7weTdfFrl-"
      }
    },
    {
      "cell_type": "markdown",
      "source": [
        "13. What is the difference between for and while loops?\n",
        "  -  A for loop in Python repeats executing a code block from a sequence till certain number of times. Whereas a while loop in Python repeats execution of a code block till the condition is true which is not certain."
      ],
      "metadata": {
        "id": "SXq4ML3BGmtF"
      }
    },
    {
      "cell_type": "markdown",
      "source": [
        "14. Describe a scenario where a while loop is more suitable than a for loop.\n",
        "  -  A program that starts with a number (e.g., 1) and doubles it repeatedly until the number is greater than or equal to 100.\n",
        "\n",
        "    Example:\n",
        "    - number = 1\n",
        "    while number < 100:\n",
        "     'Keep doubling the number until it reaches or exceeds 100'\n",
        "        \n",
        "        print(number)   'Print the current value of the number'\n",
        "        number *= 2     'Double the number'\n",
        "\n",
        "      print(\"The number has reached or exceeded 100.\")\n"
      ],
      "metadata": {
        "id": "cGW1quwbHDpX"
      }
    },
    {
      "cell_type": "markdown",
      "source": [
        "### Practical Questions"
      ],
      "metadata": {
        "id": "irs0UrKtMy5C"
      }
    },
    {
      "cell_type": "markdown",
      "source": [
        "1. Write a Python program to print \"Hello, World!\""
      ],
      "metadata": {
        "id": "cmOt-kTANN8l"
      }
    },
    {
      "cell_type": "code",
      "source": [
        "print(\"Hello, World!\")"
      ],
      "metadata": {
        "colab": {
          "base_uri": "https://localhost:8080/"
        },
        "id": "A7m0DQ7-wFwp",
        "outputId": "5b5eb875-e54b-4aa4-bab3-d5bfff861a12"
      },
      "execution_count": 10,
      "outputs": [
        {
          "output_type": "stream",
          "name": "stdout",
          "text": [
            "Hello, World!\n"
          ]
        }
      ]
    },
    {
      "cell_type": "markdown",
      "source": [
        "2. Write a Python program that displays your name and age."
      ],
      "metadata": {
        "id": "nZ0H7b0INjGQ"
      }
    },
    {
      "cell_type": "code",
      "source": [
        "name = \"Karan Sehgal\"\n",
        "age = 25\n",
        "print(\"My name is\", name)\n",
        "print(\"My age is\",  age)"
      ],
      "metadata": {
        "colab": {
          "base_uri": "https://localhost:8080/"
        },
        "id": "aR8-Dy31vyCO",
        "outputId": "c0900b2b-f900-4fde-af6b-f6b802d6d368"
      },
      "execution_count": 21,
      "outputs": [
        {
          "output_type": "stream",
          "name": "stdout",
          "text": [
            "My name is Karan Sehgal\n",
            "My age is 25\n"
          ]
        }
      ]
    },
    {
      "cell_type": "markdown",
      "source": [
        "3. Write code to print all the pre-defined keywords in Python using the keyword library."
      ],
      "metadata": {
        "id": "0rljZcRIO2hE"
      }
    },
    {
      "cell_type": "code",
      "source": [
        "help(\"keywords\")"
      ],
      "metadata": {
        "colab": {
          "base_uri": "https://localhost:8080/"
        },
        "id": "6gJa7f-0N2Vz",
        "outputId": "82419889-1bca-4433-a6af-49459fafe004"
      },
      "execution_count": 22,
      "outputs": [
        {
          "output_type": "stream",
          "name": "stdout",
          "text": [
            "\n",
            "Here is a list of the Python keywords.  Enter any keyword to get more help.\n",
            "\n",
            "False               class               from                or\n",
            "None                continue            global              pass\n",
            "True                def                 if                  raise\n",
            "and                 del                 import              return\n",
            "as                  elif                in                  try\n",
            "assert              else                is                  while\n",
            "async               except              lambda              with\n",
            "await               finally             nonlocal            yield\n",
            "break               for                 not                 \n",
            "\n"
          ]
        }
      ]
    },
    {
      "cell_type": "markdown",
      "source": [
        "4. Write a program that checks if a given word is a Python keyword."
      ],
      "metadata": {
        "id": "jCZG0jDqPRCD"
      }
    },
    {
      "cell_type": "code",
      "source": [
        "import keyword\n",
        "\n",
        "a = input(\"Please enter your keyword \")\n",
        "if keyword.iskeyword(a):\n",
        "  print(a,\"is a keyword\")\n",
        "else:\n",
        "  print(a,\"is not a keyword\")"
      ],
      "metadata": {
        "colab": {
          "base_uri": "https://localhost:8080/"
        },
        "id": "K9xyXRFHPNka",
        "outputId": "8bc78e88-0866-41ca-b3b6-fe6dad4349a6"
      },
      "execution_count": 28,
      "outputs": [
        {
          "output_type": "stream",
          "name": "stdout",
          "text": [
            "Please enter your keyword else\n",
            "else is a keyword\n"
          ]
        }
      ]
    },
    {
      "cell_type": "markdown",
      "source": [
        "5. Create a list and tuple in Python, and demonstrate how attempting to change an element works differently for each."
      ],
      "metadata": {
        "id": "GM3Wt0HNRzcp"
      }
    },
    {
      "cell_type": "code",
      "source": [
        "list = ['Cricket','Football','Basketball']\n",
        "tuple = ('Cricket','Football','Basketball')\n",
        "list[1] = 'Tennis'\n",
        "print(list)\n",
        "tuple[1] = 'Tennis'\n",
        "print(tuple)\n"
      ],
      "metadata": {
        "colab": {
          "base_uri": "https://localhost:8080/",
          "height": 211
        },
        "id": "cauw5SmrQDNI",
        "outputId": "4617eddc-5ad0-4583-ceb1-0067ae468b86"
      },
      "execution_count": 29,
      "outputs": [
        {
          "output_type": "stream",
          "name": "stdout",
          "text": [
            "['Cricket', 'Tennis', 'Basketball']\n"
          ]
        },
        {
          "output_type": "error",
          "ename": "TypeError",
          "evalue": "'tuple' object does not support item assignment",
          "traceback": [
            "\u001b[0;31m---------------------------------------------------------------------------\u001b[0m",
            "\u001b[0;31mTypeError\u001b[0m                                 Traceback (most recent call last)",
            "\u001b[0;32m<ipython-input-29-89b7d25222fe>\u001b[0m in \u001b[0;36m<cell line: 5>\u001b[0;34m()\u001b[0m\n\u001b[1;32m      3\u001b[0m \u001b[0mlist\u001b[0m\u001b[0;34m[\u001b[0m\u001b[0;36m1\u001b[0m\u001b[0;34m]\u001b[0m \u001b[0;34m=\u001b[0m \u001b[0;34m'Tennis'\u001b[0m\u001b[0;34m\u001b[0m\u001b[0;34m\u001b[0m\u001b[0m\n\u001b[1;32m      4\u001b[0m \u001b[0mprint\u001b[0m\u001b[0;34m(\u001b[0m\u001b[0mlist\u001b[0m\u001b[0;34m)\u001b[0m\u001b[0;34m\u001b[0m\u001b[0;34m\u001b[0m\u001b[0m\n\u001b[0;32m----> 5\u001b[0;31m \u001b[0mtuple\u001b[0m\u001b[0;34m[\u001b[0m\u001b[0;36m1\u001b[0m\u001b[0;34m]\u001b[0m \u001b[0;34m=\u001b[0m \u001b[0;34m'Tennis'\u001b[0m\u001b[0;34m\u001b[0m\u001b[0;34m\u001b[0m\u001b[0m\n\u001b[0m\u001b[1;32m      6\u001b[0m \u001b[0mprint\u001b[0m\u001b[0;34m(\u001b[0m\u001b[0mtuple\u001b[0m\u001b[0;34m)\u001b[0m\u001b[0;34m\u001b[0m\u001b[0;34m\u001b[0m\u001b[0m\n",
            "\u001b[0;31mTypeError\u001b[0m: 'tuple' object does not support item assignment"
          ]
        }
      ]
    },
    {
      "cell_type": "markdown",
      "source": [
        "6. Write a function to demonstrate the behavior of mutable and immutable arguments."
      ],
      "metadata": {
        "id": "a1kDxi1tTmgB"
      }
    },
    {
      "cell_type": "code",
      "source": [
        "def modify_immutable(num):\n",
        "    num += 1\n",
        "    print(f\"Inside function: num = {num}\")\n",
        "\n",
        "def modify_mutable(my_list):\n",
        "    my_list.append(4)\n",
        "    print(f\"Inside function: my_list = {my_list}\")\n",
        "\n",
        "original_num = 5\n",
        "print(f\"Before function call: original_num = {original_num}\")\n",
        "modify_immutable(original_num)\n",
        "print(f\"After function call: original_num = {original_num}\")\n",
        "\n",
        "my_list = [1, 2, 3]\n",
        "print(f\"Before function call: my_list = {my_list}\")\n",
        "modify_mutable(my_list)\n",
        "print(f\"After function call: my_list = {my_list}\")"
      ],
      "metadata": {
        "colab": {
          "base_uri": "https://localhost:8080/"
        },
        "id": "cjn2i_BoUSdV",
        "outputId": "7f00a129-44b8-40f0-c376-d51dcffd33a3"
      },
      "execution_count": 31,
      "outputs": [
        {
          "output_type": "stream",
          "name": "stdout",
          "text": [
            "Before function call: original_num = 5\n",
            "Inside function: num = 6\n",
            "After function call: original_num = 5\n",
            "Before function call: my_list = [1, 2, 3]\n",
            "Inside function: my_list = [1, 2, 3, 4]\n",
            "After function call: my_list = [1, 2, 3, 4]\n"
          ]
        }
      ]
    },
    {
      "cell_type": "markdown",
      "source": [
        "7. Write a function to demonstrate the behavior of mutable and immutable arguments."
      ],
      "metadata": {
        "id": "QzwWHffUUxPW"
      }
    },
    {
      "cell_type": "markdown",
      "source": [
        "Ans. Same as 6th"
      ],
      "metadata": {
        "id": "qIhuYmVDU1kc"
      }
    },
    {
      "cell_type": "markdown",
      "source": [
        "8. Write a program to demonstrate the use of logical operators."
      ],
      "metadata": {
        "id": "U1SSR5_BU5F6"
      }
    },
    {
      "cell_type": "code",
      "source": [
        "# Program to check if a student has passed based on score and attendance\n",
        "\n",
        "# Input: score and attendance\n",
        "score = int(input(\"Enter your test score: \"))\n",
        "attendance_percentage = float(input(\"Enter your attendance percentage: \"))\n",
        "\n",
        "# Using logical operators to check if the student passed\n",
        "if score >= 50 and attendance_percentage >= 75:\n",
        "    print(\"Congratulations, you have passed!\")\n",
        "elif score >= 50 or attendance_percentage >= 75:\n",
        "    print(\"You are partially eligible for passing, but you need to improve.\")\n",
        "else:\n",
        "    print(\"Sorry, you have not passed.\")\n",
        "\n",
        "# Using the 'not' logical operator to check if the student failed on either condition\n",
        "if not (score >= 50 and attendance_percentage >= 75):\n",
        "    print(\"You need to improve either your score or attendance (or both) to pass.\")\n"
      ],
      "metadata": {
        "colab": {
          "base_uri": "https://localhost:8080/"
        },
        "id": "Wz51cPn7UtK6",
        "outputId": "af50e933-553e-4ca3-82ca-bcc584add899"
      },
      "execution_count": 32,
      "outputs": [
        {
          "output_type": "stream",
          "name": "stdout",
          "text": [
            "Enter your test score: 52\n",
            "Enter your attendance percentage: 64\n",
            "You are partially eligible for passing, but you need to improve.\n",
            "You need to improve either your score or attendance (or both) to pass.\n"
          ]
        }
      ]
    },
    {
      "cell_type": "markdown",
      "source": [
        "9. Write a Python program to convert user input from string to integer, float, and boolean types."
      ],
      "metadata": {
        "id": "7HGisKgcVzmI"
      }
    },
    {
      "cell_type": "code",
      "source": [
        "# Get user input as a string\n",
        "user_input = input(\"Enter a value: \")\n",
        "\n",
        "# Convert to Integer\n",
        "try:\n",
        "    int_value = int(user_input)\n",
        "    print(f\"Integer value: {int_value}\")\n",
        "except ValueError:\n",
        "    print(\"The input cannot be converted to an integer.\")\n",
        "\n",
        "# Convert to Float\n",
        "try:\n",
        "    float_value = float(user_input)\n",
        "    print(f\"Float value: {float_value}\")\n",
        "except ValueError:\n",
        "    print(\"The input cannot be converted to a float.\")\n",
        "\n",
        "# Convert to Boolean\n",
        "# An empty string converts to False, any non-empty string converts to True\n",
        "bool_value = bool(user_input)\n",
        "print(f\"Boolean value: {bool_value}\")\n"
      ],
      "metadata": {
        "colab": {
          "base_uri": "https://localhost:8080/"
        },
        "id": "NjZgUmLLW7zz",
        "outputId": "b0215acb-bb6c-4481-d3d8-e3d380e48666"
      },
      "execution_count": 35,
      "outputs": [
        {
          "output_type": "stream",
          "name": "stdout",
          "text": [
            "Enter a value: 124.4\n",
            "The input cannot be converted to an integer.\n",
            "Float value: 124.4\n",
            "Boolean value: True\n"
          ]
        }
      ]
    },
    {
      "cell_type": "markdown",
      "source": [
        "10. Write code to demonstrate type casting with list elements."
      ],
      "metadata": {
        "id": "1wA8l6eUXiOx"
      }
    },
    {
      "cell_type": "code",
      "source": [
        "# Original list of strings\n",
        "string_list = [\"10\", \"20\", \"30\", \"40.5\", \"50.7\"]\n",
        "\n",
        "# Convert list elements from string to integer\n",
        "int_list = [int(item) if '.' not in item else int(float(item)) for item in string_list]\n",
        "print(\"Converted to integers:\", int_list)\n",
        "\n",
        "# Convert list elements from integer to float\n",
        "float_list = [float(item) for item in int_list]\n",
        "print(\"Converted to floats:\", float_list)\n",
        "\n",
        "# Convert list elements from float to string\n",
        "string_list_from_float = [str(item) for item in float_list]\n",
        "print(\"Converted to strings:\", string_list_from_float)"
      ],
      "metadata": {
        "colab": {
          "base_uri": "https://localhost:8080/"
        },
        "id": "mmXb3zwRXUY5",
        "outputId": "d423fbfe-1d8d-4c38-b325-120ddd0a1785"
      },
      "execution_count": 36,
      "outputs": [
        {
          "output_type": "stream",
          "name": "stdout",
          "text": [
            "Converted to integers: [10, 20, 30, 40, 50]\n",
            "Converted to floats: [10.0, 20.0, 30.0, 40.0, 50.0]\n",
            "Converted to strings: ['10.0', '20.0', '30.0', '40.0', '50.0']\n"
          ]
        }
      ]
    },
    {
      "cell_type": "markdown",
      "source": [
        "11. Write a program that checks if a number is positive, negative, or zero."
      ],
      "metadata": {
        "id": "dF5Dobx1YHSF"
      }
    },
    {
      "cell_type": "code",
      "source": [
        "a= int(input(\"Enter a number \"))\n",
        "if a>0:\n",
        "  print(\"The number is positive\")\n",
        "elif a<0:\n",
        "  print(\"The number is negative\")\n",
        "else:\n",
        "  print(\"The number is zero\")"
      ],
      "metadata": {
        "colab": {
          "base_uri": "https://localhost:8080/"
        },
        "id": "gRhuey-6YB6q",
        "outputId": "31db654f-0d0e-4e6a-f31e-2b021842454e"
      },
      "execution_count": 38,
      "outputs": [
        {
          "output_type": "stream",
          "name": "stdout",
          "text": [
            "Enter a number 8\n",
            "The number is positive\n"
          ]
        }
      ]
    },
    {
      "cell_type": "markdown",
      "source": [
        "12. Write a for loop to print numbers from 1 to 10."
      ],
      "metadata": {
        "id": "k06b9I_3YYNO"
      }
    },
    {
      "cell_type": "code",
      "source": [
        "for i in range(1,11):\n",
        "  print(i)"
      ],
      "metadata": {
        "colab": {
          "base_uri": "https://localhost:8080/"
        },
        "id": "HTx1H8gZYOpz",
        "outputId": "ad52128a-4121-40c1-da36-ef45d7f6f592"
      },
      "execution_count": 39,
      "outputs": [
        {
          "output_type": "stream",
          "name": "stdout",
          "text": [
            "1\n",
            "2\n",
            "3\n",
            "4\n",
            "5\n",
            "6\n",
            "7\n",
            "8\n",
            "9\n",
            "10\n"
          ]
        }
      ]
    },
    {
      "cell_type": "markdown",
      "source": [
        "13. Write a Python program to find the sum of all even numbers between 1 and 50.\n",
        "\n"
      ],
      "metadata": {
        "id": "wqWhZMV2Yrv6"
      }
    },
    {
      "cell_type": "code",
      "source": [
        "a = 0\n",
        "for i in range(0, 51):\n",
        "  if i%2==0:\n",
        "    a += i\n",
        "    print(a)\n",
        "print(\"The Sum of even numbers from 1 to 50 is\",a)"
      ],
      "metadata": {
        "colab": {
          "base_uri": "https://localhost:8080/"
        },
        "id": "smzjjnknYpSK",
        "outputId": "c8a04fd6-187a-4e10-9513-3b9b27be79bd"
      },
      "execution_count": 45,
      "outputs": [
        {
          "output_type": "stream",
          "name": "stdout",
          "text": [
            "0\n",
            "2\n",
            "6\n",
            "12\n",
            "20\n",
            "30\n",
            "42\n",
            "56\n",
            "72\n",
            "90\n",
            "110\n",
            "132\n",
            "156\n",
            "182\n",
            "210\n",
            "240\n",
            "272\n",
            "306\n",
            "342\n",
            "380\n",
            "420\n",
            "462\n",
            "506\n",
            "552\n",
            "600\n",
            "650\n",
            "The Sum of even numbers from 1 to 50 is 650\n"
          ]
        }
      ]
    },
    {
      "cell_type": "markdown",
      "source": [
        "14. Write a program to reverse a string using a while loop."
      ],
      "metadata": {
        "id": "hBdGhHSwZ-J1"
      }
    },
    {
      "cell_type": "code",
      "source": [
        "a = (\"Apple\")\n",
        "while len(a) > 0:\n",
        "  print(a[-1])\n",
        "  a = a[:-1]"
      ],
      "metadata": {
        "colab": {
          "base_uri": "https://localhost:8080/"
        },
        "id": "PWvEl3yhYxmU",
        "outputId": "a2259686-aee5-488d-a824-2a73bd629906"
      },
      "execution_count": 46,
      "outputs": [
        {
          "output_type": "stream",
          "name": "stdout",
          "text": [
            "e\n",
            "l\n",
            "p\n",
            "p\n",
            "A\n"
          ]
        }
      ]
    },
    {
      "cell_type": "markdown",
      "source": [
        "15. Write a Python program to calculate the factorial of a number provided by the user using a while loop.\n"
      ],
      "metadata": {
        "id": "WaRlT9kDaa4k"
      }
    },
    {
      "cell_type": "code",
      "source": [
        "\n",
        "a = int(input(\"Enter a number \"))\n",
        "b = 1\n",
        "while a > 0:\n",
        "  b *= a\n",
        "  a -= 1\n",
        "print(b)"
      ],
      "metadata": {
        "colab": {
          "base_uri": "https://localhost:8080/"
        },
        "id": "eUL8CPOWaML0",
        "outputId": "70a4cccb-97bf-40f3-f4fb-6f40d088c17f"
      },
      "execution_count": 48,
      "outputs": [
        {
          "output_type": "stream",
          "name": "stdout",
          "text": [
            "Enter a number 3\n",
            "6\n"
          ]
        }
      ]
    },
    {
      "cell_type": "code",
      "source": [],
      "metadata": {
        "id": "aGj9lfdJaozx"
      },
      "execution_count": 47,
      "outputs": []
    }
  ]
}